{
 "cells": [
  {
   "cell_type": "markdown",
   "id": "384db7e0-47f0-4b34-960e-b55302464b0f",
   "metadata": {},
   "source": [
    "# Batching Inputs Together\n",
    "sentence we want to group inside a batch will often have different length"
   ]
  },
  {
   "cell_type": "code",
   "execution_count": 12,
   "id": "0e0f2b10-7881-472d-86ea-92d78f462e7a",
   "metadata": {},
   "outputs": [],
   "source": [
    "from transformers import AutoTokenizer\n",
    "import torch"
   ]
  },
  {
   "cell_type": "code",
   "execution_count": 11,
   "id": "f7d5ecb6-b3d3-4530-ad78-db939f8bc19d",
   "metadata": {},
   "outputs": [
    {
     "name": "stdout",
     "output_type": "stream",
     "text": [
      "[1045, 1005, 2310, 2042, 3403, 2005, 1037, 8549, 5856, 25708, 10732, 2607, 2026, 2878, 2166, 1045, 5223, 2023]\n",
      "None\n",
      "[1045, 1005, 2310, 2042, 3403, 2005, 1037, 8549, 5856, 25708, 10732, 2607, 2026, 2878, 2166, 1045, 5223, 2023]\n"
     ]
    }
   ],
   "source": [
    "checkpoint = \"distilbert-base-uncased-finetuned-sst-2-english\"\n",
    "tokenizer = AutoTokenizer.from_pretrained(checkpoint)\n",
    "sentences = [\"I've been waiting for a huggigface course my whole life\",\"I hate this\",]\n",
    "tokens = [tokenizer.tokenize(sentences) for token in sentences]\n",
    "ids = [tokenizer.convert_tokens_to_ids(token) for token in tokens]\n",
    "print(print(ids[0]))\n",
    "print(ids[1])"
   ]
  },
  {
   "cell_type": "code",
   "execution_count": 14,
   "id": "818e701a-66e0-43ab-809d-5c896e859fb4",
   "metadata": {},
   "outputs": [],
   "source": [
    "import torch\n",
    "ids=[[1045, 1005, 2310, 2042, 3403, 2005, 1037, 8549, 5856, 25708, 10732, 2607, 2026, 2878, 2166, 1045, 5223, 2023],\n",
    "[1045, 1005, 2310, 2042, 3403, 2005, 1037, 8549, 5856, 25708, 10732, 2607, 2026, 2878, 2166, 1045, 5223, 2023]]\n",
    "inputs_ids = torch.tensor(ids)"
   ]
  },
  {
   "cell_type": "code",
   "execution_count": null,
   "id": "56b346ab-2d6d-4298-87aa-771971a323d8",
   "metadata": {},
   "outputs": [],
   "source": []
  },
  {
   "cell_type": "code",
   "execution_count": 15,
   "id": "dbcecc4a-e779-454c-bdbf-05a792be252b",
   "metadata": {},
   "outputs": [
    {
     "data": {
      "text/plain": [
       "0"
      ]
     },
     "execution_count": 15,
     "metadata": {},
     "output_type": "execute_result"
    }
   ],
   "source": [
    "from transformers import AutoTokenizer\n",
    "tokenizer = AutoTokenizer.from_pretrained(checkpoint)\n",
    "tokenizer.pad_token_id"
   ]
  },
  {
   "cell_type": "code",
   "execution_count": 16,
   "id": "e3865d37-6008-4d09-90d2-ca3c35155f5f",
   "metadata": {},
   "outputs": [
    {
     "name": "stdout",
     "output_type": "stream",
     "text": [
      "{'input_ids': [[101, 1045, 1005, 2310, 2042, 3403, 2005, 1037, 8549, 5856, 25708, 10732, 2607, 2026, 2878, 2166, 102], [101, 1045, 5223, 2023, 102, 0, 0, 0, 0, 0, 0, 0, 0, 0, 0, 0, 0], [101, 1045, 5223, 2023, 102, 0, 0, 0, 0, 0, 0, 0, 0, 0, 0, 0, 0]], 'attention_mask': [[1, 1, 1, 1, 1, 1, 1, 1, 1, 1, 1, 1, 1, 1, 1, 1, 1], [1, 1, 1, 1, 1, 0, 0, 0, 0, 0, 0, 0, 0, 0, 0, 0, 0], [1, 1, 1, 1, 1, 0, 0, 0, 0, 0, 0, 0, 0, 0, 0, 0, 0]]}\n"
     ]
    }
   ],
   "source": [
    "# use padding =True\n",
    "from transformers import AutoTokenizer\n",
    "checkpoint = \"distilbert-base-uncased-finetuned-sst-2-english\"\n",
    "tokenizer = AutoTokenizer.from_pretrained(checkpoint)\n",
    "sentences = [\"I've been waiting for a huggigface course my whole life\",\"I hate this\",\"i hate this\"]\n",
    "print(tokenizer(sentences,padding=True))"
   ]
  },
  {
   "cell_type": "code",
   "execution_count": null,
   "id": "32f2be49-a3b6-4ff0-84a8-8b0f2f1357bd",
   "metadata": {},
   "outputs": [],
   "source": []
  }
 ],
 "metadata": {
  "kernelspec": {
   "display_name": "Python 3 (ipykernel)",
   "language": "python",
   "name": "python3"
  },
  "language_info": {
   "codemirror_mode": {
    "name": "ipython",
    "version": 3
   },
   "file_extension": ".py",
   "mimetype": "text/x-python",
   "name": "python",
   "nbconvert_exporter": "python",
   "pygments_lexer": "ipython3",
   "version": "3.11.5"
  }
 },
 "nbformat": 4,
 "nbformat_minor": 5
}
