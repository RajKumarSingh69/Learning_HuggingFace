{
 "cells": [
  {
   "cell_type": "markdown",
   "id": "31ff1149-e281-4c69-99ec-6249873f412c",
   "metadata": {},
   "source": [
    "# Loading a custom dataset\n",
    "In HuggingFace hub there are many custom datasets are available for different task and \n",
    "HuggingFace provides a functionality through which we can load that custom models also\n",
    "\n",
    "Datasets provides several laoding scripts to handle loacal and remote datasets\n",
    "\n",
    "* For CSV Format :- load_dataset(\"csv\",data_files=\"my_file.csv\")\n",
    "* For Text Files:- load_dataset(\"text\",data_files=\"my_file.txt\")\n",
    "* For Json Files:- load_dataset(\"json\",data_files=\"my_file.json\")\n",
    "* For Parquet Files:- load_dataset(\"parquet\",data_files=\"my_file.parquet\")"
   ]
  },
  {
   "cell_type": "markdown",
   "id": "6e8f92e6-78f2-4807-b1f2-409735647ce6",
   "metadata": {},
   "source": [
    "# Loading a csv file code"
   ]
  },
  {
   "cell_type": "code",
   "execution_count": 1,
   "id": "2c4a8317-22ff-49a6-9ba9-23df7fe94bf4",
   "metadata": {},
   "outputs": [
    {
     "data": {
      "application/vnd.jupyter.widget-view+json": {
       "model_id": "3d7571edceae4b57919e67663dce1fdd",
       "version_major": 2,
       "version_minor": 0
      },
      "text/plain": [
       "Generating train split: 0 examples [00:00, ? examples/s]"
      ]
     },
     "metadata": {},
     "output_type": "display_data"
    },
    {
     "data": {
      "text/plain": [
       "DatasetDict({\n",
       "    train: Dataset({\n",
       "        features: ['Pregnancies,Glucose,BloodPressure,SkinThickness,Insulin,BMI,DiabetesPedigreeFunction,Age,Outcome'],\n",
       "        num_rows: 768\n",
       "    })\n",
       "})"
      ]
     },
     "execution_count": 1,
     "metadata": {},
     "output_type": "execute_result"
    }
   ],
   "source": [
    "from datasets import load_dataset\n",
    "local_csv_dataset = load_dataset(\"csv\",data_files=\"diabetes.csv\",sep=\";\")\n",
    "local_csv_dataset"
   ]
  },
  {
   "cell_type": "code",
   "execution_count": 7,
   "id": "b8cb81b1-17e6-4aaf-86fd-f0b587eecfd6",
   "metadata": {},
   "outputs": [
    {
     "data": {
      "text/plain": [
       "{'Pregnancies,Glucose,BloodPressure,SkinThickness,Insulin,BMI,DiabetesPedigreeFunction,Age,Outcome': Value(dtype='string', id=None)}"
      ]
     },
     "execution_count": 7,
     "metadata": {},
     "output_type": "execute_result"
    }
   ],
   "source": [
    "local_csv_dataset['train'].features"
   ]
  },
  {
   "cell_type": "markdown",
   "id": "ca6087d7-8e6b-43dc-871c-80ddf0fabd20",
   "metadata": {},
   "source": [
    "# loading the dataset from a remote location like Github"
   ]
  },
  {
   "cell_type": "code",
   "execution_count": null,
   "id": "20cf8c24-48f1-42fc-b628-f5265b5332ec",
   "metadata": {},
   "outputs": [],
   "source": [
    "from datasets import load_dataset\n",
    "dataset_url = \"full path of the remote location for that dataset\"\n",
    "remote_csv_file = load_dataset(\"csv\",data_files=dataset_url,sep=\";\")\n",
    "remote_csv_file"
   ]
  },
  {
   "cell_type": "markdown",
   "id": "786f13a9-aa32-4ea3-870c-904dcf245529",
   "metadata": {},
   "source": [
    "# Loading the text file from a remote location"
   ]
  },
  {
   "cell_type": "code",
   "execution_count": null,
   "id": "33566b00-f486-4bde-81ee-e4d172dd0389",
   "metadata": {},
   "outputs": [],
   "source": [
    "from datasets import load_dataset\n",
    "dataset_url = \"full path of the remote location for that dataset\"\n",
    "remote_text_file = load_dataset(\"text\",data_files=dataset_url)\n",
    "remote_text_file"
   ]
  },
  {
   "cell_type": "markdown",
   "id": "7bfa6e8e-affd-45e7-8a25-59f421b61e8e",
   "metadata": {},
   "source": [
    "# Loading the json file "
   ]
  },
  {
   "cell_type": "code",
   "execution_count": null,
   "id": "4ac55ff7-0277-4ce2-8e12-41e04daf4e21",
   "metadata": {},
   "outputs": [],
   "source": [
    "from datasets import load_dataset\n",
    "dataset_url = \"full path of the remote location for that dataset\"\n",
    "remote_json_file = load_dataset(\"json\",data_files=dataset_url)\n",
    "remote_json_file['train'][:2]"
   ]
  },
  {
   "cell_type": "code",
   "execution_count": null,
   "id": "66ac4f2d-e3d5-4969-914b-bd6680d85ed7",
   "metadata": {},
   "outputs": [],
   "source": [
    "# or we can load the data by specifying the field in nested jsnon\n",
    "from datasets import load_dataset\n",
    "dataset_url = \"full path of the remote location for that dataset\"\n",
    "remote_json_file = load_dataset(\"json\",data_files=dataset_url,field=\"data\")\n",
    "remote_json_file['train'][:2]"
   ]
  },
  {
   "cell_type": "markdown",
   "id": "c6833052-9d1a-4bf6-99d4-96816fe584e5",
   "metadata": {},
   "source": [
    "# Variours features for data pre-processing in Dataset Library\n",
    "Opertations are:\n",
    "* Shuffle and split\n",
    "* select and filter\n",
    "* Rename , remove and flatten\n",
    "* Map"
   ]
  },
  {
   "cell_type": "code",
   "execution_count": null,
   "id": "f3e922f8-c16e-44fb-8ff3-101eb5c2ed7f",
   "metadata": {},
   "outputs": [],
   "source": []
  },
  {
   "cell_type": "markdown",
   "id": "8c606edf-a4b3-4d6e-8405-e0787433e016",
   "metadata": {},
   "source": [
    "# Shuffle Method"
   ]
  },
  {
   "cell_type": "code",
   "execution_count": 9,
   "id": "00a42696-a69c-4241-bc6c-2876e343f1aa",
   "metadata": {},
   "outputs": [
    {
     "data": {
      "application/vnd.jupyter.widget-view+json": {
       "model_id": "744d72d5be244244aaf3894028d7d552",
       "version_major": 2,
       "version_minor": 0
      },
      "text/plain": [
       "Downloading readme:   0%|          | 0.00/7.62k [00:00<?, ?B/s]"
      ]
     },
     "metadata": {},
     "output_type": "display_data"
    },
    {
     "data": {
      "application/vnd.jupyter.widget-view+json": {
       "model_id": "9165fee4f57946b4bac1593c5c9fba67",
       "version_major": 2,
       "version_minor": 0
      },
      "text/plain": [
       "Downloading data:   0%|          | 0.00/14.5M [00:00<?, ?B/s]"
      ]
     },
     "metadata": {},
     "output_type": "display_data"
    },
    {
     "data": {
      "application/vnd.jupyter.widget-view+json": {
       "model_id": "79f49385288c4ea7a7ced6d0220f6b30",
       "version_major": 2,
       "version_minor": 0
      },
      "text/plain": [
       "Downloading data:   0%|          | 0.00/1.82M [00:00<?, ?B/s]"
      ]
     },
     "metadata": {},
     "output_type": "display_data"
    },
    {
     "data": {
      "application/vnd.jupyter.widget-view+json": {
       "model_id": "a6809a22e7cd4127ae6ea18f5739d686",
       "version_major": 2,
       "version_minor": 0
      },
      "text/plain": [
       "Generating train split:   0%|          | 0/87599 [00:00<?, ? examples/s]"
      ]
     },
     "metadata": {},
     "output_type": "display_data"
    },
    {
     "data": {
      "application/vnd.jupyter.widget-view+json": {
       "model_id": "94585392466f4176a0cf9faceaf4001f",
       "version_major": 2,
       "version_minor": 0
      },
      "text/plain": [
       "Generating validation split:   0%|          | 0/10570 [00:00<?, ? examples/s]"
      ]
     },
     "metadata": {},
     "output_type": "display_data"
    },
    {
     "data": {
      "text/plain": [
       "{'id': '5733be284776f41900661182',\n",
       " 'title': 'University_of_Notre_Dame',\n",
       " 'context': 'Architecturally, the school has a Catholic character. Atop the Main Building\\'s gold dome is a golden statue of the Virgin Mary. Immediately in front of the Main Building and facing it, is a copper statue of Christ with arms upraised with the legend \"Venite Ad Me Omnes\". Next to the Main Building is the Basilica of the Sacred Heart. Immediately behind the basilica is the Grotto, a Marian place of prayer and reflection. It is a replica of the grotto at Lourdes, France where the Virgin Mary reputedly appeared to Saint Bernadette Soubirous in 1858. At the end of the main drive (and in a direct line that connects through 3 statues and the Gold Dome), is a simple, modern stone statue of Mary.',\n",
       " 'question': 'To whom did the Virgin Mary allegedly appear in 1858 in Lourdes France?',\n",
       " 'answers': {'text': ['Saint Bernadette Soubirous'], 'answer_start': [515]}}"
      ]
     },
     "execution_count": 9,
     "metadata": {},
     "output_type": "execute_result"
    }
   ],
   "source": [
    "from datasets import load_dataset\n",
    "squad = load_dataset(\"squad\",split='train')\n",
    "squad[0]"
   ]
  },
  {
   "cell_type": "code",
   "execution_count": 10,
   "id": "bc479164-411d-45d2-9787-88434f98c6e0",
   "metadata": {},
   "outputs": [
    {
     "data": {
      "text/plain": [
       "{'id': '5727cc873acd2414000deca9',\n",
       " 'title': 'Oklahoma',\n",
       " 'context': 'Oklahoma is the 20th largest state in the United States, covering an area of 69,898 square miles (181,035 km2), with 68,667 square miles (177847 km2) of land and 1,281 square miles (3,188 km2) of water. It is one of six states on the Frontier Strip and lies partly in the Great Plains near the geographical center of the 48 contiguous states. It is bounded on the east by Arkansas and Missouri, on the north by Kansas, on the northwest by Colorado, on the far west by New Mexico, and on the south and near-west by Texas.',\n",
       " 'question': 'Where does Oklahoma rank by land area?',\n",
       " 'answers': {'text': ['20th'], 'answer_start': [16]}}"
      ]
     },
     "execution_count": 10,
     "metadata": {},
     "output_type": "execute_result"
    }
   ],
   "source": [
    "# we can easily shuffle the whole dataset with Dataset.shuffle()\n",
    "squad_shuffled = squad.shuffle(seed=666)\n",
    "squad_shuffled[0]"
   ]
  },
  {
   "cell_type": "code",
   "execution_count": 1,
   "id": "2a16be61-ee0c-41ec-a240-e8a121b4c6a9",
   "metadata": {},
   "outputs": [
    {
     "data": {
      "text/plain": [
       "DatasetDict({\n",
       "    train: Dataset({\n",
       "        features: ['id', 'title', 'context', 'question', 'answers'],\n",
       "        num_rows: 78839\n",
       "    })\n",
       "    test: Dataset({\n",
       "        features: ['id', 'title', 'context', 'question', 'answers'],\n",
       "        num_rows: 8760\n",
       "    })\n",
       "})"
      ]
     },
     "execution_count": 1,
     "metadata": {},
     "output_type": "execute_result"
    }
   ],
   "source": [
    "#Another way to shuffle the data by creating our own shuffed train adn test split with Dataset.train_test_split()\n",
    "from datasets import load_dataset\n",
    "squad = load_dataset(\"squad\",split='train')\n",
    "dataset = squad.train_test_split(test_size=0.1)\n",
    "dataset"
   ]
  },
  {
   "cell_type": "markdown",
   "id": "b2992568-a104-4585-84cc-0abd243bb2c3",
   "metadata": {},
   "source": [
    "# select method"
   ]
  },
  {
   "cell_type": "code",
   "execution_count": 3,
   "id": "a3e570d1-4fce-4c4d-a318-05bd73adf0e1",
   "metadata": {},
   "outputs": [
    {
     "data": {
      "text/plain": [
       "Dataset({\n",
       "    features: ['id', 'title', 'context', 'question', 'answers'],\n",
       "    num_rows: 5\n",
       "})"
      ]
     },
     "execution_count": 3,
     "metadata": {},
     "output_type": "execute_result"
    }
   ],
   "source": [
    "# we can return rows according to a list of indices using Dataset.select()\n",
    "from datasets import load_dataset\n",
    "squad = load_dataset(\"squad\",split='train')\n",
    "indices = [0,10,20,40,80]\n",
    "example = squad.select(indices)\n",
    "example"
   ]
  },
  {
   "cell_type": "code",
   "execution_count": 4,
   "id": "989d271d-9a9e-41ab-9019-302c8dc789d7",
   "metadata": {},
   "outputs": [
    {
     "data": {
      "text/plain": [
       "Dataset({\n",
       "    features: ['id', 'title', 'context', 'question', 'answers'],\n",
       "    num_rows: 5\n",
       "})"
      ]
     },
     "execution_count": 4,
     "metadata": {},
     "output_type": "execute_result"
    }
   ],
   "source": [
    "# we can create a random sample by chaining with Dataset.shuffle()\n",
    "from datasets import load_dataset\n",
    "squad = load_dataset(\"squad\",split='train')\n",
    "sample = squad.shuffle().select(range(5))\n",
    "sample"
   ]
  },
  {
   "cell_type": "markdown",
   "id": "c824c788-ee58-46a6-a3a8-e878a7e96e92",
   "metadata": {},
   "source": [
    "# Filter Method"
   ]
  },
  {
   "cell_type": "code",
   "execution_count": 5,
   "id": "58d5d3ee-0e0b-4c8b-99a4-5a5a653a9167",
   "metadata": {},
   "outputs": [
    {
     "data": {
      "application/vnd.jupyter.widget-view+json": {
       "model_id": "d9a0304545f048c4a9a7fb6847bfc7e9",
       "version_major": 2,
       "version_minor": 0
      },
      "text/plain": [
       "Filter:   0%|          | 0/87599 [00:00<?, ? examples/s]"
      ]
     },
     "metadata": {},
     "output_type": "display_data"
    },
    {
     "data": {
      "text/plain": [
       "{'id': '56de0fef4396321400ee2583',\n",
       " 'title': 'Lighting',\n",
       " 'context': 'Lighting or illumination is the deliberate use of light to achieve a practical or aesthetic effect. Lighting includes the use of both artificial light sources like lamps and light fixtures, as well as natural illumination by capturing daylight. Daylighting (using windows, skylights, or light shelves) is sometimes used as the main source of light during daytime in buildings. This can save energy in place of using artificial lighting, which represents a major component of energy consumption in buildings. Proper lighting can enhance task performance, improve the appearance of an area, or have positive psychological effects on occupants.',\n",
       " 'question': 'What is used a main source of light for a building during the day?',\n",
       " 'answers': {'text': ['Daylighting'], 'answer_start': [245]}}"
      ]
     },
     "execution_count": 5,
     "metadata": {},
     "output_type": "execute_result"
    }
   ],
   "source": [
    "# we can use Dataset.filter() to return rows that match the condition\n",
    "from datasets import load_dataset\n",
    "squad = load_dataset(\"squad\",split='train')\n",
    "squad_filtered = squad.filter(lambda x : x[\"title\"].startswith(\"L\"))\n",
    "squad_filtered[0]"
   ]
  },
  {
   "cell_type": "markdown",
   "id": "7280a4e5-6acc-4dd8-9db0-7e42d37f143e",
   "metadata": {},
   "source": [
    "# Rename and Remove column methods"
   ]
  },
  {
   "cell_type": "code",
   "execution_count": 6,
   "id": "61bd46ad-578b-4478-abd2-ed897c1087cc",
   "metadata": {},
   "outputs": [
    {
     "data": {
      "text/plain": [
       "Dataset({\n",
       "    features: ['id', 'title', 'passages', 'question', 'answers'],\n",
       "    num_rows: 87599\n",
       "})"
      ]
     },
     "execution_count": 6,
     "metadata": {},
     "output_type": "execute_result"
    }
   ],
   "source": [
    "# By using the rename_column() and remove_column() methods to transform our columns\n",
    "from datasets import load_dataset\n",
    "squad = load_dataset(\"squad\",split='train')\n",
    "squad.rename_column(\"context\",\"passages\")\n"
   ]
  },
  {
   "cell_type": "code",
   "execution_count": 7,
   "id": "20a4cdea-9670-4da1-9a0a-123e622e1d40",
   "metadata": {},
   "outputs": [
    {
     "data": {
      "text/plain": [
       "Dataset({\n",
       "    features: ['context', 'question', 'answers'],\n",
       "    num_rows: 87599\n",
       "})"
      ]
     },
     "execution_count": 7,
     "metadata": {},
     "output_type": "execute_result"
    }
   ],
   "source": [
    "# remove_column method\n",
    "from datasets import load_dataset\n",
    "squad = load_dataset('squad',split='train')\n",
    "squad.remove_columns(['id','title'])"
   ]
  },
  {
   "cell_type": "markdown",
   "id": "8089b457-2013-41a7-a425-264f65a2642b",
   "metadata": {},
   "source": [
    "# Flatten function\n",
    "If our dataset has nested columns , then by using Dataset.flatten() we can flatten them1"
   ]
  },
  {
   "cell_type": "code",
   "execution_count": 8,
   "id": "4ec3acb9-6c5a-493a-ab57-31d47353758e",
   "metadata": {},
   "outputs": [
    {
     "data": {
      "text/plain": [
       "Dataset({\n",
       "    features: ['id', 'title', 'context', 'question', 'answers'],\n",
       "    num_rows: 87599\n",
       "})"
      ]
     },
     "execution_count": 8,
     "metadata": {},
     "output_type": "execute_result"
    }
   ],
   "source": [
    "from datasets import load_dataset\n",
    "squad = load_dataset(\"squad\",split='train')\n",
    "squad"
   ]
  },
  {
   "cell_type": "code",
   "execution_count": 9,
   "id": "12c0f6f5-8699-4f28-9ab8-c44f9f87465e",
   "metadata": {},
   "outputs": [
    {
     "data": {
      "text/plain": [
       "Dataset({\n",
       "    features: ['id', 'title', 'context', 'question', 'answers.text', 'answers.answer_start'],\n",
       "    num_rows: 87599\n",
       "})"
      ]
     },
     "execution_count": 9,
     "metadata": {},
     "output_type": "execute_result"
    }
   ],
   "source": [
    "squad.flatten()"
   ]
  },
  {
   "cell_type": "markdown",
   "id": "7a8cc31d-f137-46b8-84a0-e1b4fd5a9a8d",
   "metadata": {},
   "source": [
    "# Map() Methood"
   ]
  },
  {
   "cell_type": "code",
   "execution_count": 10,
   "id": "4b7a6f6e-5564-4c95-a87e-40721987cad9",
   "metadata": {},
   "outputs": [],
   "source": [
    "#This method is used for applying the functions to the whole dataset\n",
    "from datasets import load_dataset\n",
    "squad = load_dataset(\"squad\",split='train')"
   ]
  },
  {
   "cell_type": "code",
   "execution_count": 11,
   "id": "30bb5a5d-7469-4eef-abeb-569886846660",
   "metadata": {},
   "outputs": [],
   "source": [
    "def lowercase_title(example):\n",
    "    return {'title':example['title'].lower()}"
   ]
  },
  {
   "cell_type": "code",
   "execution_count": 12,
   "id": "c4ca1a21-031f-46d1-a773-7db8d400e39a",
   "metadata": {},
   "outputs": [
    {
     "data": {
      "application/vnd.jupyter.widget-view+json": {
       "model_id": "33cd831ecccb4f1b9c6d53e50ce13c22",
       "version_major": 2,
       "version_minor": 0
      },
      "text/plain": [
       "Map:   0%|          | 0/87599 [00:00<?, ? examples/s]"
      ]
     },
     "metadata": {},
     "output_type": "display_data"
    },
    {
     "data": {
      "text/plain": [
       "['egypt',\n",
       " 'ann_arbor,_michigan',\n",
       " 'rule_of_law',\n",
       " 'samurai',\n",
       " 'group_(mathematics)']"
      ]
     },
     "execution_count": 12,
     "metadata": {},
     "output_type": "execute_result"
    }
   ],
   "source": [
    "#applying the map function\n",
    "squad_lowercase = squad.map(lowercase_title)\n",
    "#peek at random sample\n",
    "squad_lowercase.shuffle(seed=42)['title'][:5]"
   ]
  },
  {
   "cell_type": "code",
   "execution_count": 13,
   "id": "b4fb9ecb-3f56-4f6f-9072-5e1a58e239c1",
   "metadata": {},
   "outputs": [],
   "source": [
    "# or we can use this map function on batches also\n",
    "from transformers import AutoTokenizer"
   ]
  },
  {
   "cell_type": "code",
   "execution_count": 14,
   "id": "a475f304-2cdd-4088-b9a2-045e5fcbb82b",
   "metadata": {},
   "outputs": [],
   "source": [
    "tokenizer = AutoTokenizer.from_pretrained(\"bert-base-uncased\")\n",
    "\n",
    "#building a function\n",
    "def tokenize_title(ex):\n",
    "    return tokenizer(ex['title'])"
   ]
  },
  {
   "cell_type": "code",
   "execution_count": 15,
   "id": "fbe2b6e0-9b9d-41f5-b9b7-e751fbd0949b",
   "metadata": {},
   "outputs": [
    {
     "data": {
      "application/vnd.jupyter.widget-view+json": {
       "model_id": "0466845d153445f2b8643e9954a8ebe3",
       "version_major": 2,
       "version_minor": 0
      },
      "text/plain": [
       "Map:   0%|          | 0/87599 [00:00<?, ? examples/s]"
      ]
     },
     "metadata": {},
     "output_type": "display_data"
    },
    {
     "data": {
      "text/plain": [
       "Dataset({\n",
       "    features: ['id', 'title', 'context', 'question', 'answers', 'input_ids', 'token_type_ids', 'attention_mask'],\n",
       "    num_rows: 87599\n",
       "})"
      ]
     },
     "execution_count": 15,
     "metadata": {},
     "output_type": "execute_result"
    }
   ],
   "source": [
    "squad.map(tokenize_title,batched=True,batch_size=500)"
   ]
  },
  {
   "cell_type": "markdown",
   "id": "ae931aae-6443-4470-984a-eef08efda487",
   "metadata": {},
   "source": [
    "# Datasets + DataFrames = "
   ]
  },
  {
   "cell_type": "code",
   "execution_count": null,
   "id": "8ca363c5-14b2-4c1b-95fb-e9b22207b72a",
   "metadata": {},
   "outputs": [
    {
     "data": {
      "application/vnd.jupyter.widget-view+json": {
       "model_id": "337225c79f424a93835c0e172271f5a6",
       "version_major": 2,
       "version_minor": 0
      },
      "text/plain": [
       "Downloading data:   0%|          | 0.00/234M [00:00<?, ?B/s]"
      ]
     },
     "metadata": {},
     "output_type": "display_data"
    }
   ],
   "source": [
    "# By default , Dataset object will return python obejct when you index it\n",
    "from datasets import load_dataset\n",
    "dataset = load_dataset(\"swiss_judgment_prediction\",\"all\",split='train')\n",
    "dataset[0]"
   ]
  },
  {
   "cell_type": "code",
   "execution_count": null,
   "id": "d22bdf24-5c3c-4781-a5a2-19ebbe1c259e",
   "metadata": {},
   "outputs": [],
   "source": [
    "# convert the output format into the pandas dataframe\n",
    "dataset.set_format(\"pandas\")\n",
    "dataset[0]"
   ]
  },
  {
   "cell_type": "code",
   "execution_count": null,
   "id": "52748739-0d3d-4177-aca4-5009d191a8c5",
   "metadata": {},
   "outputs": [],
   "source": []
  },
  {
   "cell_type": "code",
   "execution_count": null,
   "id": "88d71e74-f378-4dbf-b522-daece49c53a3",
   "metadata": {},
   "outputs": [],
   "source": [
    "df= dataset[:]\n",
    "df.head()"
   ]
  },
  {
   "cell_type": "code",
   "execution_count": null,
   "id": "7615a20c-1244-4cc0-9421-e3d84403adba",
   "metadata": {},
   "outputs": [],
   "source": []
  },
  {
   "cell_type": "code",
   "execution_count": null,
   "id": "7dbbad50-046d-4c2f-a70f-12d3151c228c",
   "metadata": {},
   "outputs": [],
   "source": []
  },
  {
   "cell_type": "markdown",
   "id": "0fee0994-f0f4-4b17-9b9b-5dad6dc8b795",
   "metadata": {},
   "source": [
    "# Saving and Reloading a datasets\n",
    "we can save our dataset in a different loacation and format\n",
    "* For Arrow :- Dataset.save_to_disk()\n",
    "* For CSV:- Dataset.to_csv()\n",
    "* For JSO:- Dataset.to_json()\n",
    "* For Parquet:- Dataset.to_aprquet()"
   ]
  },
  {
   "cell_type": "code",
   "execution_count": 1,
   "id": "53dfdf98-5731-455f-84bf-c75c3687d5d4",
   "metadata": {},
   "outputs": [],
   "source": [
    "# when we download or process a dataset , the data is stored in a cache directory\n",
    "from datasets import load_dataset"
   ]
  },
  {
   "cell_type": "code",
   "execution_count": 2,
   "id": "548b97c0-bdb7-4d37-bec7-1f199f961d2e",
   "metadata": {},
   "outputs": [
    {
     "data": {
      "application/vnd.jupyter.widget-view+json": {
       "model_id": "e01ae870808f472ca3e18abf0396f7dc",
       "version_major": 2,
       "version_minor": 0
      },
      "text/plain": [
       "Downloading readme:   0%|          | 0.00/9.31k [00:00<?, ?B/s]"
      ]
     },
     "metadata": {},
     "output_type": "display_data"
    },
    {
     "data": {
      "application/vnd.jupyter.widget-view+json": {
       "model_id": "bd8f416fab304f11a2443c5ec44b36f8",
       "version_major": 2,
       "version_minor": 0
      },
      "text/plain": [
       "Downloading data:   0%|          | 0.00/60.0M [00:00<?, ?B/s]"
      ]
     },
     "metadata": {},
     "output_type": "display_data"
    },
    {
     "data": {
      "application/vnd.jupyter.widget-view+json": {
       "model_id": "16a31c9d57c04bc38e5affc9ef93c4ad",
       "version_major": 2,
       "version_minor": 0
      },
      "text/plain": [
       "Downloading data:   0%|          | 0.00/7.58M [00:00<?, ?B/s]"
      ]
     },
     "metadata": {},
     "output_type": "display_data"
    },
    {
     "data": {
      "application/vnd.jupyter.widget-view+json": {
       "model_id": "1d6e4e7f6d0d460fbf589cf792acd77d",
       "version_major": 2,
       "version_minor": 0
      },
      "text/plain": [
       "Downloading data:   0%|          | 0.00/7.58M [00:00<?, ?B/s]"
      ]
     },
     "metadata": {},
     "output_type": "display_data"
    },
    {
     "data": {
      "application/vnd.jupyter.widget-view+json": {
       "model_id": "5c452cd7326b4db5b343187a2d7426a7",
       "version_major": 2,
       "version_minor": 0
      },
      "text/plain": [
       "Generating train split:   0%|          | 0/160000 [00:00<?, ? examples/s]"
      ]
     },
     "metadata": {},
     "output_type": "display_data"
    },
    {
     "data": {
      "application/vnd.jupyter.widget-view+json": {
       "model_id": "c6e125f47a86431cbf2b9644a91761c8",
       "version_major": 2,
       "version_minor": 0
      },
      "text/plain": [
       "Generating validation split:   0%|          | 0/20000 [00:00<?, ? examples/s]"
      ]
     },
     "metadata": {},
     "output_type": "display_data"
    },
    {
     "data": {
      "application/vnd.jupyter.widget-view+json": {
       "model_id": "6e595217da5644728f82498974e9fbd8",
       "version_major": 2,
       "version_minor": 0
      },
      "text/plain": [
       "Generating test split:   0%|          | 0/20000 [00:00<?, ? examples/s]"
      ]
     },
     "metadata": {},
     "output_type": "display_data"
    },
    {
     "data": {
      "text/plain": [
       "{'train': [{'filename': 'C:\\\\Users\\\\rajkr\\\\.cache\\\\huggingface\\\\datasets\\\\allocine\\\\allocine\\\\0.0.0\\\\a4654f4896408912913a62ace89614879a549287\\\\allocine-train.arrow'}],\n",
       " 'validation': [{'filename': 'C:\\\\Users\\\\rajkr\\\\.cache\\\\huggingface\\\\datasets\\\\allocine\\\\allocine\\\\0.0.0\\\\a4654f4896408912913a62ace89614879a549287\\\\allocine-validation.arrow'}],\n",
       " 'test': [{'filename': 'C:\\\\Users\\\\rajkr\\\\.cache\\\\huggingface\\\\datasets\\\\allocine\\\\allocine\\\\0.0.0\\\\a4654f4896408912913a62ace89614879a549287\\\\allocine-test.arrow'}]}"
      ]
     },
     "execution_count": 2,
     "metadata": {},
     "output_type": "execute_result"
    }
   ],
   "source": [
    "raw_dataset = load_dataset(\"allocine\")\n",
    "raw_dataset.cache_files"
   ]
  },
  {
   "cell_type": "code",
   "execution_count": 3,
   "id": "6000be27-bcfe-42e6-9502-6ec658b40ad0",
   "metadata": {},
   "outputs": [],
   "source": [
    "# saving and realoding the data to the disk"
   ]
  },
  {
   "cell_type": "code",
   "execution_count": 4,
   "id": "51bb8a6c-20c1-48db-9408-7b767bc8223f",
   "metadata": {},
   "outputs": [
    {
     "data": {
      "application/vnd.jupyter.widget-view+json": {
       "model_id": "67d3a113ebea45519e121c2b66b3845c",
       "version_major": 2,
       "version_minor": 0
      },
      "text/plain": [
       "Saving the dataset (0/1 shards):   0%|          | 0/160000 [00:00<?, ? examples/s]"
      ]
     },
     "metadata": {},
     "output_type": "display_data"
    },
    {
     "data": {
      "application/vnd.jupyter.widget-view+json": {
       "model_id": "c58c1175cd0f477db2c665a6b7b86bf9",
       "version_major": 2,
       "version_minor": 0
      },
      "text/plain": [
       "Saving the dataset (0/1 shards):   0%|          | 0/20000 [00:00<?, ? examples/s]"
      ]
     },
     "metadata": {},
     "output_type": "display_data"
    },
    {
     "data": {
      "application/vnd.jupyter.widget-view+json": {
       "model_id": "63e3c50d628b40f08eccba7c31309cee",
       "version_major": 2,
       "version_minor": 0
      },
      "text/plain": [
       "Saving the dataset (0/1 shards):   0%|          | 0/20000 [00:00<?, ? examples/s]"
      ]
     },
     "metadata": {},
     "output_type": "display_data"
    }
   ],
   "source": [
    "#for daving inside the disk\n",
    "from datasets import load_dataset\n",
    "raw_dataset = load_dataset(\"allocine\")\n",
    "raw_dataset.save_to_disk(\"my-arrow-datasets\")"
   ]
  },
  {
   "cell_type": "code",
   "execution_count": 5,
   "id": "2b3939dd-8394-466d-8b59-d72462108c64",
   "metadata": {},
   "outputs": [
    {
     "data": {
      "text/plain": [
       "DatasetDict({\n",
       "    train: Dataset({\n",
       "        features: ['review', 'label'],\n",
       "        num_rows: 160000\n",
       "    })\n",
       "    validation: Dataset({\n",
       "        features: ['review', 'label'],\n",
       "        num_rows: 20000\n",
       "    })\n",
       "    test: Dataset({\n",
       "        features: ['review', 'label'],\n",
       "        num_rows: 20000\n",
       "    })\n",
       "})"
      ]
     },
     "execution_count": 5,
     "metadata": {},
     "output_type": "execute_result"
    }
   ],
   "source": [
    "# for loading the dataset from the disk\n",
    "from datasets import load_from_disk\n",
    "arrow_datasets_reloaded = load_from_disk(\"my-arrow-datasets\")\n",
    "arrow_datasets_reloaded"
   ]
  },
  {
   "cell_type": "code",
   "execution_count": 6,
   "id": "3dbc44eb-e669-47d4-bd54-5cb5a8529c18",
   "metadata": {},
   "outputs": [],
   "source": [
    "# saving and loading the dataset in CSV Format"
   ]
  },
  {
   "cell_type": "code",
   "execution_count": 7,
   "id": "482e7e5a-58b0-4233-8ba1-b9766ab1d9c4",
   "metadata": {},
   "outputs": [
    {
     "data": {
      "application/vnd.jupyter.widget-view+json": {
       "model_id": "f8f052a5eceb4215923ee015b5ca6a9e",
       "version_major": 2,
       "version_minor": 0
      },
      "text/plain": [
       "Creating CSV from Arrow format:   0%|          | 0/160 [00:00<?, ?ba/s]"
      ]
     },
     "metadata": {},
     "output_type": "display_data"
    },
    {
     "data": {
      "application/vnd.jupyter.widget-view+json": {
       "model_id": "45c0b76761e243cdbff21c80f531e0da",
       "version_major": 2,
       "version_minor": 0
      },
      "text/plain": [
       "Creating CSV from Arrow format:   0%|          | 0/20 [00:00<?, ?ba/s]"
      ]
     },
     "metadata": {},
     "output_type": "display_data"
    },
    {
     "data": {
      "application/vnd.jupyter.widget-view+json": {
       "model_id": "1fe6d3c0d8a447b99be650c806611cf8",
       "version_major": 2,
       "version_minor": 0
      },
      "text/plain": [
       "Creating CSV from Arrow format:   0%|          | 0/20 [00:00<?, ?ba/s]"
      ]
     },
     "metadata": {},
     "output_type": "display_data"
    }
   ],
   "source": [
    "from datasets import load_dataset\n",
    "raw_dataset = load_dataset(\"allocine\")\n",
    "\n",
    "for split,dataset in raw_dataset.items():\n",
    "    dataset.to_csv(f\"my-dataset-{split}.csv\",index=None)"
   ]
  },
  {
   "cell_type": "code",
   "execution_count": 8,
   "id": "ea5dab56-4d10-47c3-8db2-4d9a145e3008",
   "metadata": {},
   "outputs": [
    {
     "data": {
      "application/vnd.jupyter.widget-view+json": {
       "model_id": "6f1e564587ba42c9bedb13ae085c6bbd",
       "version_major": 2,
       "version_minor": 0
      },
      "text/plain": [
       "Generating train split: 0 examples [00:00, ? examples/s]"
      ]
     },
     "metadata": {},
     "output_type": "display_data"
    },
    {
     "data": {
      "application/vnd.jupyter.widget-view+json": {
       "model_id": "206122e08af745d6a76dc53d4b621abe",
       "version_major": 2,
       "version_minor": 0
      },
      "text/plain": [
       "Generating validation split: 0 examples [00:00, ? examples/s]"
      ]
     },
     "metadata": {},
     "output_type": "display_data"
    },
    {
     "data": {
      "application/vnd.jupyter.widget-view+json": {
       "model_id": "24071afc9e3b4516b1f2bf29148b1d18",
       "version_major": 2,
       "version_minor": 0
      },
      "text/plain": [
       "Generating test split: 0 examples [00:00, ? examples/s]"
      ]
     },
     "metadata": {},
     "output_type": "display_data"
    },
    {
     "data": {
      "text/plain": [
       "DatasetDict({\n",
       "    train: Dataset({\n",
       "        features: ['review', 'label'],\n",
       "        num_rows: 160000\n",
       "    })\n",
       "    validation: Dataset({\n",
       "        features: ['review', 'label'],\n",
       "        num_rows: 20000\n",
       "    })\n",
       "    test: Dataset({\n",
       "        features: ['review', 'label'],\n",
       "        num_rows: 20000\n",
       "    })\n",
       "})"
      ]
     },
     "execution_count": 8,
     "metadata": {},
     "output_type": "execute_result"
    }
   ],
   "source": [
    "#loading\n",
    "from datasets import load_dataset\n",
    "data_files={\n",
    "    \"train\":\"my-dataset-train.csv\",\n",
    "    \"validation\":\"my-dataset-validation.csv\",\n",
    "    \"test\":\"my-dataset-test.csv\",\n",
    "}\n",
    "csv_datasets_reloaded = load_dataset(\"csv\",data_files=data_files)\n",
    "csv_datasets_reloaded"
   ]
  },
  {
   "cell_type": "code",
   "execution_count": null,
   "id": "6410eda9-257b-4745-b240-7d47a1e39b7b",
   "metadata": {},
   "outputs": [],
   "source": []
  }
 ],
 "metadata": {
  "kernelspec": {
   "display_name": "Python 3 (ipykernel)",
   "language": "python",
   "name": "python3"
  },
  "language_info": {
   "codemirror_mode": {
    "name": "ipython",
    "version": 3
   },
   "file_extension": ".py",
   "mimetype": "text/x-python",
   "name": "python",
   "nbconvert_exporter": "python",
   "pygments_lexer": "ipython3",
   "version": "3.11.5"
  }
 },
 "nbformat": 4,
 "nbformat_minor": 5
}
