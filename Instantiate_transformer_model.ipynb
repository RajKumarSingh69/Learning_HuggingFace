{
 "cells": [
  {
   "cell_type": "markdown",
   "id": "492b448f-afbf-4ca5-9d74-a7b7973c5419",
   "metadata": {},
   "source": [
    "# Instantiate Transformers model"
   ]
  },
  {
   "cell_type": "code",
   "execution_count": null,
   "id": "7c95d170-a246-4a08-8129-0642070bf351",
   "metadata": {},
   "outputs": [
    {
     "name": "stderr",
     "output_type": "stream",
     "text": [
      "The cache for model files in Transformers v4.22.0 has been updated. Migrating your old cache. This is a one-time only operation. You can interrupt this and resume the migration later on by calling `transformers.utils.move_cache()`.\n"
     ]
    },
    {
     "data": {
      "application/vnd.jupyter.widget-view+json": {
       "model_id": "e8ee6a8285d9493dae65b9cd3f656ea3",
       "version_major": 2,
       "version_minor": 0
      },
      "text/plain": [
       "0it [00:00, ?it/s]"
      ]
     },
     "metadata": {},
     "output_type": "display_data"
    },
    {
     "data": {
      "application/vnd.jupyter.widget-view+json": {
       "model_id": "19900734727349a1bc253ea48382051f",
       "version_major": 2,
       "version_minor": 0
      },
      "text/plain": [
       "config.json:   0%|          | 0.00/570 [00:00<?, ?B/s]"
      ]
     },
     "metadata": {},
     "output_type": "display_data"
    },
    {
     "name": "stderr",
     "output_type": "stream",
     "text": [
      "C:\\Users\\rajkr\\AppData\\Local\\Programs\\Python\\Python311\\Lib\\site-packages\\huggingface_hub\\file_download.py:157: UserWarning: `huggingface_hub` cache-system uses symlinks by default to efficiently store duplicated files but your machine does not support them in C:\\Users\\rajkr\\.cache\\huggingface\\hub\\models--bert-base-cased. Caching files will still work but in a degraded version that might require more space on your disk. This warning can be disabled by setting the `HF_HUB_DISABLE_SYMLINKS_WARNING` environment variable. For more details, see https://huggingface.co/docs/huggingface_hub/how-to-cache#limitations.\n",
      "To support symlinks on Windows, you either need to activate Developer Mode or to run Python as an administrator. In order to see activate developer mode, see this article: https://docs.microsoft.com/en-us/windows/apps/get-started/enable-your-device-for-development\n",
      "  warnings.warn(message)\n"
     ]
    },
    {
     "data": {
      "application/vnd.jupyter.widget-view+json": {
       "model_id": "8766abd403e94819b7f6a536aebb885b",
       "version_major": 2,
       "version_minor": 0
      },
      "text/plain": [
       "model.safetensors:   0%|          | 0.00/436M [00:00<?, ?B/s]"
      ]
     },
     "metadata": {},
     "output_type": "display_data"
    }
   ],
   "source": [
    "from transformers import AutoModel\n",
    "\n",
    "bert_model = AutoModel.from_pretrained(\"bert-base-cased\")\n",
    "print(type(bert_model))"
   ]
  },
  {
   "cell_type": "code",
   "execution_count": null,
   "id": "3ff1dbe1-e801-4374-be77-5b70ad609782",
   "metadata": {},
   "outputs": [],
   "source": [
    "gpt_model= AutoModel.from_pretrained(\"gpt2\")\n",
    "print(type(gpt_model))\n",
    "\n",
    "bart_model = AutoModel.from_pretrained(\"facebook/bart-base\")"
   ]
  },
  {
   "cell_type": "markdown",
   "id": "00d420ec-b546-4ad3-bd08-2ba643953c77",
   "metadata": {},
   "source": [
    "# AutoConfig class"
   ]
  },
  {
   "cell_type": "code",
   "execution_count": null,
   "id": "f3207da3-dba7-4ba8-a19e-95528f95cd16",
   "metadata": {},
   "outputs": [],
   "source": []
  },
  {
   "cell_type": "code",
   "execution_count": null,
   "id": "8b9eb28b-5263-44d8-a2b6-91c33076e355",
   "metadata": {},
   "outputs": [],
   "source": [
    "from transformers import AutoConfig\n",
    "\n",
    "bert_config = AutoConfig.from_pretrained(\"bert-base-cased\")\n",
    "print(type(bert_config))\n",
    "\n",
    "gpt_config =  AutoConfig.from_pretrained(\"gpt2\")\n",
    "print(type(gpt_config))\n"
   ]
  },
  {
   "cell_type": "code",
   "execution_count": null,
   "id": "823f0224-cda0-446e-8f61-322e26f300f0",
   "metadata": {},
   "outputs": [],
   "source": [
    "# we can also use the specific class if we know this\n",
    "from transformers import BertConfig\n",
    "bert_config = BertConfig.from_pretrained(\"bert-base-cased\")\n",
    "print(type(bert_config))"
   ]
  },
  {
   "cell_type": "code",
   "execution_count": null,
   "id": "5ce1390a-d1b9-480d-9a71-29fbb0739533",
   "metadata": {},
   "outputs": [],
   "source": [
    "#for gpt2\n",
    "from transformers import GPT2Config\n",
    "gpt_config = GPT2Config.from_pretrained(\"gpt2\")\n",
    "print(type(gpt_config))"
   ]
  },
  {
   "cell_type": "markdown",
   "id": "fd89e294-9394-4fd8-8355-29b16bbaa49a",
   "metadata": {},
   "source": [
    "# Now once we have a model configuration we can build or create a model\n",
    "that has the same architecture same as our checkpoint"
   ]
  },
  {
   "cell_type": "code",
   "execution_count": null,
   "id": "3f046b67-c100-4d1c-98f8-97b7279fd540",
   "metadata": {},
   "outputs": [],
   "source": [
    "#Same architecuture as bert-base-cased\n",
    "from transformers import BertConfig, BertModel\n",
    "\n",
    "bert_config = BertConfig.from_pretrained(\"bert-base-cased\")\n",
    "bert_model = BertModel(bert_config)"
   ]
  },
  {
   "cell_type": "code",
   "execution_count": null,
   "id": "18cb1928-27e2-4375-8c34-578e9719ee5a",
   "metadata": {},
   "outputs": [],
   "source": [
    "# now using only 10 layers insted of 12\n",
    "from transformers import BertConfig, BertModel\n",
    "bert_config = BertConfig.from_pretrained(\"bert-base-csed\",num_hidden_layers=10)\n",
    "bert_model = BertModel(bert_config)"
   ]
  },
  {
   "cell_type": "markdown",
   "id": "d4d6d9fa-4136-4b7b-a5e1-4221150ac881",
   "metadata": {},
   "source": [
    "# Saving a model which is pre-trained or fine-tuned by us"
   ]
  },
  {
   "cell_type": "code",
   "execution_count": null,
   "id": "aefaba9a-9cd5-4952-b866-f4d49e43dd50",
   "metadata": {},
   "outputs": [],
   "source": [
    "from transformers import BertConfig, BertModel\n",
    "\n",
    "bert_config = BertConfig.from_pretrained(\"bert-base-csed\",num_hidden_layers=10)\n",
    "bert_model = BertModel(bert_config)\n",
    "\n",
    "#traning code \n",
    "\n",
    "#saving the model\n",
    "bert_model.save_pretrained(\"my-bert-model\")"
   ]
  },
  {
   "cell_type": "markdown",
   "id": "8f02f27d-5949-450a-80e7-19b015f9fd25",
   "metadata": {},
   "source": [
    "# Reloading the saved model"
   ]
  },
  {
   "cell_type": "code",
   "execution_count": null,
   "id": "aff0a0ea-0949-4786-a1cd-82e767f0e55f",
   "metadata": {},
   "outputs": [],
   "source": [
    "from transformers import BertModel\n",
    "bert_model =  BertModel.from_pretrained(\"my-bert-model\")"
   ]
  },
  {
   "cell_type": "code",
   "execution_count": null,
   "id": "8a4e59da-4378-4b02-92e4-5471534790d1",
   "metadata": {},
   "outputs": [],
   "source": []
  },
  {
   "cell_type": "markdown",
   "id": "ab5b1d67-b275-4f63-8fe8-726be74e06a3",
   "metadata": {},
   "source": [
    "# Instantiate Model using TFAutoModel API\n",
    "o\tThe TFAutoModel allows you to instantiate a pretrained model from any checkpoint.o\tThe TFAutoModel allows you to instantiate a pretrained model from any checkpoint."
   ]
  },
  {
   "cell_type": "code",
   "execution_count": null,
   "id": "7b7e2db1-7e43-497f-9fa4-d31e54cf424d",
   "metadata": {},
   "outputs": [],
   "source": [
    "from transformers import TFAutoModel\n",
    "\n",
    "bert_model = TFAutoModel.from_pretrained(\"bert-base-cased\")\n",
    "print(type(bert_model))\n",
    "\n",
    "gpt_model = TFAutoModel.from_pretrained(\"gpt2\")\n",
    "print(type(gpt_model))"
   ]
  },
  {
   "cell_type": "code",
   "execution_count": null,
   "id": "3c218767-262a-445d-960b-dfaae9bde2a6",
   "metadata": {},
   "outputs": [],
   "source": [
    "# instantiate model with only 10 layers\n",
    "from transformers import BertConfig, TFAutoModel\n",
    "\n",
    "bert_config = BertConfig.from_pretrained(\"bert-base-cased\",num_hidden_layers=10)\n",
    "bert_model = TFAutoModel(bert_config)\n",
    "print(type(bert_model))"
   ]
  },
  {
   "cell_type": "code",
   "execution_count": null,
   "id": "f78736ee-78a6-4b1e-b256-83442f0e40d8",
   "metadata": {},
   "outputs": [],
   "source": [
    "# save the model\n",
    "from transformers import BertConfig, TFBertModel\n",
    "\n",
    "bert_config = BertConfig.from_pretrained('bert-base-cased')\n",
    "bert_model = TFBertModel(bert_config)\n",
    "bert_model.save_pretrained(\"my-bert-model\")\n",
    "\n",
    "#Reloading the model\n",
    "from transformers import TFBertModel\n",
    "bert_mdoel= TFBertModel.from_pretrained(\"my-bert-model\")"
   ]
  }
 ],
 "metadata": {
  "kernelspec": {
   "display_name": "Python 3 (ipykernel)",
   "language": "python",
   "name": "python3"
  },
  "language_info": {
   "codemirror_mode": {
    "name": "ipython",
    "version": 3
   },
   "file_extension": ".py",
   "mimetype": "text/x-python",
   "name": "python",
   "nbconvert_exporter": "python",
   "pygments_lexer": "ipython3",
   "version": "3.11.5"
  }
 },
 "nbformat": 4,
 "nbformat_minor": 5
}
